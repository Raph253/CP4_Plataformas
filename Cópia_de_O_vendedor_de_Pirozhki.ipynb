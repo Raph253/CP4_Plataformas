{
  "nbformat": 4,
  "nbformat_minor": 0,
  "metadata": {
    "colab": {
      "provenance": []
    },
    "kernelspec": {
      "name": "python3",
      "display_name": "Python 3"
    },
    "language_info": {
      "name": "python"
    }
  },
  "cells": [
    {
      "cell_type": "markdown",
      "source": [
        "# CASE: O vendedor de Pirozhki\n",
        "\n",
        "\n",
        "Vladimir Sidorov desistiu de seu trabalho convencional na KGB e decidiu empreender em 2010 no ramo alimentício. Com suas economias abriu um foodtruck no bairro do Ipiranga – SP especializado na venda de Pirozhki, onde seu grande diferencial era trabalhar com ingredientes importados dando uma qualidade extraordinária ao produto. Após o crescimento das vendas, a modalidade delivery foi implementada para auxiliar a empresa. Vladimir era extremamente popular no bairro, todos o conheciam, mas em 2019 se mudou para um ponto melhor e não tivemos mais notícia. Os últimos dados compartilhados das vendas de Vlad foram disponibilizados antes de sua partida.\n"
      ],
      "metadata": {
        "id": "HXZSC_Ob3Zrd"
      }
    },
    {
      "cell_type": "code",
      "source": [
        "\n",
        "Ano\tvendas\n",
        "2010\t723\n",
        "2011\t814\n",
        "2012\t905\n",
        "2014\t1087\n",
        "2017\t1360\n",
        "2018\t1451\n",
        "2019\t1542\n"
      ],
      "metadata": {
        "id": "H6qSt8nv3de1"
      },
      "execution_count": null,
      "outputs": []
    },
    {
      "cell_type": "markdown",
      "source": [
        "\n",
        "\n",
        "1.   Dado o problema acima, qual o melhor algoritmo para descobrir os dados de 2015?\n",
        "2.   Qual coeficiente angular?\n",
        "3.   Considerando uma perspectiva estatística, qual o total de venda em 2020 (Apresentar valores)?\n",
        "4. Considerando uma perspectiva estatística, qual o total de venda em 2021 (Apresentar valores)?\n",
        "5. Desenvolva um código em python que calcule estatisticamente as vendas em qualquer ano desejado\n",
        "6. Considerando sua opinião, qual o total de venda em 2021?\n",
        "7. Considerando sua opinião, qual o total de venda em 2023?\n",
        "\n"
      ],
      "metadata": {
        "id": "jmbpy-k73f90"
      }
    },
    {
      "cell_type": "code",
      "source": [
        "#1\n",
        "\n",
        "import pandas as pd\n",
        "from sklearn.linear_model import LinearRegression\n",
        "\n",
        "# Dados fornecidos\n",
        "data = {'Ano': [2010, 2011, 2012, 2014, 2017, 2018, 2019],\n",
        "        'Vendas': [723, 814, 905, 1087, 1360, 1451, 1542]}\n",
        "\n",
        "df = pd.DataFrame(data, columns=['Ano', 'Vendas'])\n",
        "\n",
        "\n",
        "# Crie um modelo de regressão linear\n",
        "modelo = LinearRegression()\n",
        "\n",
        "# Ajuste o modelo aos dados\n",
        "modelo.fit(df[['Ano']], df['Vendas'])\n",
        "\n",
        "# Faça uma previsão para o ano de 2015\n",
        "ano_2015 = [[2015]]\n",
        "previsao_2015 = modelo.predict(ano_2015)\n",
        "\n",
        "print(\"Previsão de vendas para 2015:\", previsao_2015[0])\n"
      ],
      "metadata": {
        "id": "kO4gNTJC-fH2",
        "outputId": "244532e2-04c1-46d8-cb91-3e268aaff870",
        "colab": {
          "base_uri": "https://localhost:8080/"
        }
      },
      "execution_count": null,
      "outputs": [
        {
          "output_type": "stream",
          "name": "stdout",
          "text": [
            "Previsão de vendas para 2015: 1178.0\n"
          ]
        },
        {
          "output_type": "stream",
          "name": "stderr",
          "text": [
            "/usr/local/lib/python3.10/dist-packages/sklearn/base.py:439: UserWarning: X does not have valid feature names, but LinearRegression was fitted with feature names\n",
            "  warnings.warn(\n"
          ]
        }
      ]
    },
    {
      "cell_type": "code",
      "source": [
        "#2\n",
        "def coeficiente_angular(x1, y1, x2, y2):\n",
        "    \"\"\"\n",
        "    Calcula o coeficiente angular (inclinação) de uma reta que passa pelos pontos (x1, y1) e (x2, y2).\n",
        "\n",
        "    Args:\n",
        "        x1 (float): Coordenada x do primeiro ponto.\n",
        "        y1 (float): Coordenada y do primeiro ponto.\n",
        "        x2 (float): Coordenada x do segundo ponto.\n",
        "        y2 (float): Coordenada y do segundo ponto.\n",
        "\n",
        "    Returns:\n",
        "        float: Coeficiente angular da reta.\n",
        "    \"\"\"\n",
        "    return (y2 - y1) / (x2 - x1)\n",
        "\n",
        "# Dados conhecidos\n",
        "x1 = 2014\n",
        "y1 = 1087\n",
        "x2 = 2017\n",
        "y2 = 1360\n",
        "\n",
        "# Calcular o coeficiente angular\n",
        "coef_angular = coeficiente_angular(x1, y1, x2, y2)\n",
        "print(f\"Coeficiente angular da reta: {coef_angular:.2f}\")\n"
      ],
      "metadata": {
        "colab": {
          "base_uri": "https://localhost:8080/"
        },
        "id": "DqZLXe11_HzX",
        "outputId": "8ec450c4-ffae-42af-bf9e-ee506a23cf49"
      },
      "execution_count": null,
      "outputs": [
        {
          "output_type": "stream",
          "name": "stdout",
          "text": [
            "Coeficiente angular da reta: 91.00\n"
          ]
        }
      ]
    },
    {
      "cell_type": "code",
      "source": [
        "#3\n",
        "import numpy as np\n",
        "\n",
        "from sklearn.linear_model import LinearRegression\n",
        "\n",
        "\n",
        "# Dados de entrada\n",
        "\n",
        "anos = np.array([2010, 2011, 2012, 2014, 2017, 2018, 2019]).reshape(-1, 1)\n",
        "\n",
        "vendas = np.array([723, 814, 905, 1087, 1360, 1451, 1542])\n",
        "\n",
        "\n",
        "\n",
        "# Criar um modelo de regressão linear\n",
        "\n",
        "modelo = LinearRegression()\n",
        "\n",
        "\n",
        "\n",
        "# Ajustar o modelo aos dados\n",
        "\n",
        "modelo.fit(anos, vendas)\n",
        "\n",
        "\n",
        "\n",
        "# Fazer previsões\n",
        "\n",
        "ano_previsto = 2020  # Ano para o qual você deseja fazer uma previsão\n",
        "\n",
        "vendas_previstas = modelo.predict([[ano_previsto]])\n",
        "\n",
        "\n",
        "\n",
        "# Imprimir os resultados\n",
        "\n",
        "print(f\"Previsão de vendas para o ano {ano_previsto}: {vendas_previstas[0]:.2f}\")"
      ],
      "metadata": {
        "colab": {
          "base_uri": "https://localhost:8080/"
        },
        "id": "nLK2kO1uCYL0",
        "outputId": "fc95a636-9ab4-4fe9-cb7f-d49998eea319"
      },
      "execution_count": null,
      "outputs": [
        {
          "output_type": "stream",
          "name": "stdout",
          "text": [
            "Previsão de vendas para o ano 2020: 1633.00\n"
          ]
        }
      ]
    },
    {
      "cell_type": "code",
      "source": [
        "#4\n",
        "import numpy as np\n",
        "\n",
        "from sklearn.linear_model import LinearRegression\n",
        "\n",
        "\n",
        "# Dados de entrada\n",
        "\n",
        "anos = np.array([2010, 2011, 2012, 2014, 2017, 2018, 2019]).reshape(-1, 1)\n",
        "\n",
        "vendas = np.array([723, 814, 905, 1087, 1360, 1451, 1542])\n",
        "\n",
        "\n",
        "\n",
        "# Criar um modelo de regressão linear\n",
        "\n",
        "modelo = LinearRegression()\n",
        "\n",
        "\n",
        "\n",
        "# Ajustar o modelo aos dados\n",
        "\n",
        "modelo.fit(anos, vendas)\n",
        "\n",
        "\n",
        "\n",
        "# Fazer previsões\n",
        "\n",
        "ano_previsto = 2021  # Ano para o qual você deseja fazer uma previsão\n",
        "\n",
        "vendas_previstas = modelo.predict([[ano_previsto]])\n",
        "\n",
        "\n",
        "\n",
        "# Imprimir os resultados\n",
        "\n",
        "print(f\"Previsão de vendas para o ano {ano_previsto}: {vendas_previstas[0]:.2f}\")"
      ],
      "metadata": {
        "colab": {
          "base_uri": "https://localhost:8080/"
        },
        "id": "JjxiwN-bCumG",
        "outputId": "f7e35e62-a287-4c7c-e339-0b858584a214"
      },
      "execution_count": null,
      "outputs": [
        {
          "output_type": "stream",
          "name": "stdout",
          "text": [
            "Previsão de vendas para o ano 2021: 1724.00\n"
          ]
        }
      ]
    },
    {
      "cell_type": "code",
      "source": [
        "#5\n",
        "import numpy as np\n",
        "\n",
        "from sklearn.linear_model import LinearRegression\n",
        "\n",
        "\n",
        "\n",
        "# Dados de entrada\n",
        "\n",
        "anos = np.array([2010, 2011, 2012, 2014, 2017, 2018, 2019]).reshape(-1, 1)\n",
        "\n",
        "vendas = np.array([723, 814, 905, 1087, 1360, 1451, 1542])\n",
        "\n",
        "\n",
        "\n",
        "# Criar um modelo de regressão linear\n",
        "\n",
        "modelo = LinearRegression()\n",
        "\n",
        "\n",
        "\n",
        "# Ajustar o modelo aos dados\n",
        "\n",
        "modelo.fit(anos, vendas)\n",
        "\n",
        "\n",
        "\n",
        "# Fazer previsões\n",
        "\n",
        "ano_previsto = int(input(\"Digite o ano desejado para a previsão: \")) # Ano para o qual você deseja fazer uma previsão\n",
        "\n",
        "vendas_previstas = modelo.predict([[ano_previsto]])\n",
        "\n",
        "\n",
        "\n",
        "# Imprimir os resultados\n",
        "\n",
        "print(f\"Previsão de vendas para o ano {ano_previsto}: {vendas_previstas[0]:.2f}\")"
      ],
      "metadata": {
        "colab": {
          "base_uri": "https://localhost:8080/"
        },
        "id": "NviQyZ9hC3dk",
        "outputId": "15aaa4f8-dacd-4788-e7dc-d5f4516c2258"
      },
      "execution_count": null,
      "outputs": [
        {
          "output_type": "stream",
          "name": "stdout",
          "text": [
            "Digite o ano desejado para a previsão: 2024\n",
            "Previsão de vendas para o ano 2024: 1997.00\n"
          ]
        }
      ]
    },
    {
      "cell_type": "markdown",
      "source": [
        "#6\n",
        "Baseado no padrão de vendas a tendencia é que no ano de 2021 as vendas cresçam em 5.57% em relação ao ano anterior chegando a 1724 vendas"
      ],
      "metadata": {
        "id": "9ueummkoD5KA"
      }
    },
    {
      "cell_type": "markdown",
      "source": [
        "#7\n",
        "\n",
        "Baseado no padrão de vendas a tendencia é que no ano de 2023 as vendas cresçam em 5.01% em relação ao ano anterior chegando a 1906 vendas"
      ],
      "metadata": {
        "id": "WCW4e2HtFZJf"
      }
    },
    {
      "cell_type": "markdown",
      "source": [
        "*   Nome:  Luiza Ignacio Gomes\n",
        "*   RM: 97797\n",
        "*   Nome: Raphael Rodrigues Papa\n",
        "*   RM: 552432\n",
        "\n"
      ],
      "metadata": {
        "id": "Wi9_DVhq34pT"
      }
    }
  ]
}